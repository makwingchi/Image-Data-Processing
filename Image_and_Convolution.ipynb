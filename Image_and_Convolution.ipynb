{
 "cells": [
  {
   "cell_type": "markdown",
   "metadata": {},
   "source": [
    "# Images and Convolution\n",
    "\n",
    "## Step 1.1\n",
    "\n",
    "In this module, we will explore the Convolution operation. Convolution is a very popular/important operation on matrices that has applications in Natural Language Processing and Computer Vision. Therefore, in this module, we will write 2 functions that together perform basic 2D convolution operations given an image and a kernel.\n",
    "\n",
    "The very first function we define is `convolve` that takes two 2D numpy matrices of the same size and performs the convolution operation. It takes as input two arguments, `img_subset` and `kernel`. `img_subset` is the specific region of the image that we apply the `kernel` to. Applying the `kernel` is equivalent to computing a weighted sum, `img_subset` values weighted by the corresponding `kernel` values."
   ]
  },
  {
   "cell_type": "code",
   "execution_count": 1,
   "metadata": {},
   "outputs": [],
   "source": [
    "# Import stuff\n",
    "\n",
    "import pandas as pd\n",
    "import numpy as np\n",
    "from tqdm import tqdm\n",
    "\n",
    "from sklearn.ensemble import RandomForestClassifier\n",
    "from sklearn.metrics import accuracy_score\n",
    "\n",
    "from numpy.random import randint\n",
    "\n",
    "import matplotlib.pyplot as plt\n",
    "%matplotlib inline"
   ]
  },
  {
   "cell_type": "code",
   "execution_count": 2,
   "metadata": {},
   "outputs": [],
   "source": [
    "# Implement the convolve function. \n",
    "\n",
    "def convolve(mat1, mat2):\n",
    "    m, n = mat1.shape\n",
    "    result = 0\n",
    "    for i in range(m):\n",
    "        for j in range(n):\n",
    "            result = result + mat1[i, j] * mat2[i, j]\n",
    "            \n",
    "    return result    "
   ]
  },
  {
   "cell_type": "markdown",
   "metadata": {},
   "source": [
    "## Step 1.2\n",
    "\n",
    "Now that we have the `convolve` function defined, we implement the full convolution method, i.e. a function that iteratively apply the kernel across the entire given image. This function will be called `convolveImage` and takes as input 2 arguments, `img` and `kernel`. The function takes the input image and convolves the given kernel across the entire image."
   ]
  },
  {
   "cell_type": "code",
   "execution_count": 3,
   "metadata": {},
   "outputs": [],
   "source": [
    "def convolveImage(img, kernel):\n",
    "    a, b = img.shape\n",
    "    c, d = kernel.shape\n",
    "    result = np.zeros((a-c+1, b-d+1))\n",
    "    \n",
    "    for i in range(a-c+1):\n",
    "        for j in range(b-d+1):\n",
    "            img_subset = img[i:i+c, j:j+d]\n",
    "            result[i, j] = convolve(img_subset, kernel)\n",
    "    \n",
    "    return result"
   ]
  },
  {
   "cell_type": "markdown",
   "metadata": {},
   "source": [
    "## Step 2.1: Data visualization\n",
    "\n",
    "We now load our dataset for this assignment which is in a numpy format. The training data is called `trainData.npy` and the corresponding label file is called `trainTruth.npy`. Similarly, for testing, we have the `testData.npy` and `testTruth.npy` datasets."
   ]
  },
  {
   "cell_type": "code",
   "execution_count": 4,
   "metadata": {},
   "outputs": [],
   "source": [
    "import numpy as np"
   ]
  },
  {
   "cell_type": "code",
   "execution_count": 5,
   "metadata": {},
   "outputs": [],
   "source": [
    "# Load the datasets into trainx, trainy, testx, testy\n",
    "\n",
    "trainx = np.load('trainData.npy')\n",
    "trainy = np.load('trainTruth.npy')\n",
    "testx = np.load('testData.npy')\n",
    "testy = np.load('testTruth.npy')"
   ]
  },
  {
   "cell_type": "markdown",
   "metadata": {},
   "source": [
    "The data files contain 3-D matrices with each sample/instance represented by a 2-D matrix. In these matrices, the first index represents the sample number while the last 2 index represent the size of each instance. Therefore, if the shape of trainx is (a,b,c), then we have `a` number of samples in the data with each sample being a 2-D matrix of size `(b,c)`.  \n",
    "\n",
    "Let's visualize the data to see what exactly it is that we are working with. Using numpy indexing, we take out the 6th sample in the training data to have a look."
   ]
  },
  {
   "cell_type": "code",
   "execution_count": 6,
   "metadata": {},
   "outputs": [],
   "source": [
    "# Select the 6th sample from the training dataset (trainx) \n",
    "# and set it to the variable 'img1'\n",
    "img1 = trainx[5, 0:, 0:]"
   ]
  },
  {
   "cell_type": "code",
   "execution_count": 7,
   "metadata": {},
   "outputs": [
    {
     "data": {
      "image/png": "[encoded data removed]",
      "text/plain": [
       "<Figure size 432x288 with 1 Axes>"
      ]
     },
     "metadata": {},
     "output_type": "display_data"
    }
   ],
   "source": [
    "# View the plot\n",
    "plt.imshow(img1, cmap = 'gray');"
   ]
  },
  {
   "cell_type": "markdown",
   "metadata": {},
   "source": [
    "Now plot the 12th element in the training dataset."
   ]
  },
  {
   "cell_type": "code",
   "execution_count": 8,
   "metadata": {},
   "outputs": [],
   "source": [
    "# Select the 12th sample from the training dataset(trainx) and set it to the variable 'img2'\n",
    "img2 = trainx[11, 0:, 0:]"
   ]
  },
  {
   "cell_type": "code",
   "execution_count": 9,
   "metadata": {},
   "outputs": [
    {
     "data": {
      "text/plain": [
       "<matplotlib.image.AxesImage at 0x1c686c355f8>"
      ]
     },
     "execution_count": 9,
     "metadata": {},
     "output_type": "execute_result"
    },
    {
     "data": {
      "image/png": "[encoded data removed]",
      "text/plain": [
       "<Figure size 432x288 with 1 Axes>"
      ]
     },
     "metadata": {},
     "output_type": "display_data"
    }
   ],
   "source": [
    "# View the plot\n",
    "plt.imshow(img2, cmap = 'gray')"
   ]
  },
  {
   "cell_type": "markdown",
   "metadata": {},
   "source": [
    "Now we will check for the corresponding values of the 5th and 11th element in `trainy`. Assuming 1 means true and 0 means false, we can see the truth value for a rectangle is 1."
   ]
  },
  {
   "cell_type": "code",
   "execution_count": 10,
   "metadata": {},
   "outputs": [
    {
     "data": {
      "text/plain": [
       "(0, 1)"
      ]
     },
     "execution_count": 10,
     "metadata": {},
     "output_type": "execute_result"
    }
   ],
   "source": [
    "trainy[5], trainy[11]"
   ]
  },
  {
   "cell_type": "code",
   "execution_count": 11,
   "metadata": {},
   "outputs": [],
   "source": [
    "circleTruthValue = 0"
   ]
  },
  {
   "cell_type": "markdown",
   "metadata": {},
   "source": [
    "## Deriving Convolution features\n",
    "\n",
    "In this module, we derive features for each of the instances in our training data (as well as testing) by applying the convolution operator over each of the instances. These features will then be used to create a Machine Learning model that predicts whether the image contains a rectangle or a circle.\n",
    "\n",
    "### Step 3.1\n",
    "\n",
    "The first step in this process is to load the kernels into a variable called `kernels`."
   ]
  },
  {
   "cell_type": "code",
   "execution_count": 12,
   "metadata": {},
   "outputs": [],
   "source": [
    "# Load the kernels.py file and name the variable 'kernels'\n",
    "kernels = np.load('kernels.npy')"
   ]
  },
  {
   "cell_type": "markdown",
   "metadata": {},
   "source": [
    "### Step 3.2 Visualizing Kernels\n",
    "\n",
    "Similar to step 2.1, visualizing the kernels can help understand what exactly the kernels look like. We will plot the 5th kernel from the `kernels` variable in the following cell."
   ]
  },
  {
   "cell_type": "code",
   "execution_count": 13,
   "metadata": {},
   "outputs": [],
   "source": [
    "# Set the 5th kernel to the 'img3' variable\n",
    "img3 = kernels[4, 0:, 0:]"
   ]
  },
  {
   "cell_type": "code",
   "execution_count": 14,
   "metadata": {},
   "outputs": [
    {
     "data": {
      "text/plain": [
       "<matplotlib.image.AxesImage at 0x1c686c8e7f0>"
      ]
     },
     "execution_count": 14,
     "metadata": {},
     "output_type": "execute_result"
    },
    {
     "data": {
      "image/png": "[encoded data removed]",
      "text/plain": [
       "<Figure size 432x288 with 1 Axes>"
      ]
     },
     "metadata": {},
     "output_type": "display_data"
    }
   ],
   "source": [
    "# View the plot\n",
    "plt.imshow(img3, cmap = 'gray')"
   ]
  },
  {
   "cell_type": "markdown",
   "metadata": {},
   "source": [
    "### Visualizing the Effect of Convolution with kernels\n",
    "Now to visualize the effect of convolving an image with a kernel, we can run the next cell to see the input image, the kernel, and the output of the convolution of the kernel on the given image."
   ]
  },
  {
   "cell_type": "code",
   "execution_count": 15,
   "metadata": {},
   "outputs": [],
   "source": [
    "# Set 'kernel' to be the 4th element in the kernels variable and 'img4' as the 116th element from trainx\n",
    "\n",
    "kernel = kernels[3, 0:, 0:]\n",
    "img4 = trainx[115, 0:, 0:]"
   ]
  },
  {
   "cell_type": "code",
   "execution_count": 16,
   "metadata": {},
   "outputs": [],
   "source": [
    "output = convolveImage(img4, kernel)"
   ]
  },
  {
   "cell_type": "code",
   "execution_count": 17,
   "metadata": {},
   "outputs": [
    {
     "data": {
      "text/plain": [
       "<matplotlib.image.AxesImage at 0x1c686d40a90>"
      ]
     },
     "execution_count": 17,
     "metadata": {},
     "output_type": "execute_result"
    },
    {
     "data": {
      "image/png": "[encoded data removed]",
      "text/plain": [
       "<Figure size 1080x720 with 3 Axes>"
      ]
     },
     "metadata": {},
     "output_type": "display_data"
    }
   ],
   "source": [
    "# We should be able to see three plots here\n",
    "\n",
    "plt.figure(figsize = (15,10))\n",
    "plt.subplot(131)\n",
    "plt.imshow(img4, cmap = 'gray')\n",
    "\n",
    "plt.subplot(132)\n",
    "plt.imshow(kernel, cmap = 'gray')\n",
    "\n",
    "plt.subplot(133)\n",
    "plt.imshow(output, cmap = 'gray')"
   ]
  },
  {
   "cell_type": "markdown",
   "metadata": {},
   "source": [
    "### Step 3.3: createFeatureVector\n",
    "\n",
    "In this module, we implement a function called createFeatureVector that takes as input a single image and a set of kernels. \n",
    "\n",
    "Its task can be summarized as :\n",
    " * Initialize a empty list to store all features for the image\n",
    " * For every kernel:\n",
    "      - apply the `convolveImage` function over the image\n",
    "      - compute the sum over the output matrix \n",
    "      - add the computed sum to the feature list\n",
    " * return the list as a numpy array"
   ]
  },
  {
   "cell_type": "code",
   "execution_count": 18,
   "metadata": {},
   "outputs": [],
   "source": [
    "def createFeatureVector(img, kernels):\n",
    "    result = []\n",
    "    for i in range(kernels.shape[0]):\n",
    "        kernel = kernels[i, 0:, 0:]\n",
    "        matrix = convolveImage(img, kernel)\n",
    "        result.append(np.sum(matrix))\n",
    "        \n",
    "    return np.array(result)"
   ]
  },
  {
   "cell_type": "markdown",
   "metadata": {},
   "source": [
    "### Step 3.4 featurizeData\n",
    "\n",
    "The next function, `featurizeData` takes as input the dataset and computes the output of `createFeatureVector` on each of the instances in the dataset. Takes 2 inputs : `dataset` and `kernels`\n",
    "\n",
    "The output will be a 2-D matrix with each row representing the feature vectors computed for each of the instances in the given dataset."
   ]
  },
  {
   "cell_type": "code",
   "execution_count": 19,
   "metadata": {},
   "outputs": [],
   "source": [
    "def featurizeData(dataset, kernels):\n",
    "    array = np.array([])\n",
    "    for i in range(dataset.shape[0]):\n",
    "        this_array = createFeatureVector(dataset[i, 0:], kernels)\n",
    "        if array.size:\n",
    "            array = np.vstack([array, this_array])\n",
    "        else:\n",
    "            array = this_array\n",
    "        \n",
    "        \n",
    "    return array"
   ]
  },
  {
   "cell_type": "markdown",
   "metadata": {},
   "source": [
    "Now using the featurizeData function defined above, we will compute the featurized versions of the training and testing data and name them `trainx_feat` and `testx_feat`."
   ]
  },
  {
   "cell_type": "code",
   "execution_count": 20,
   "metadata": {},
   "outputs": [],
   "source": [
    "trainx_feat = featurizeData(trainx, kernels)\n",
    "testx_feat = featurizeData(testx, kernels)"
   ]
  },
  {
   "cell_type": "markdown",
   "metadata": {},
   "source": [
    "## Modeling\n",
    "\n",
    "In this section, we will use the features that we have created and build a Classification model. In particular, we will be using the Random Forest model, which is one of better performing ML models. "
   ]
  },
  {
   "cell_type": "markdown",
   "metadata": {},
   "source": [
    "### Step 4.1 Using Raw Features \n",
    "\n",
    "We first train a model using the raw values of the images itself."
   ]
  },
  {
   "cell_type": "code",
   "execution_count": 21,
   "metadata": {},
   "outputs": [],
   "source": [
    "i, j, k = trainx.shape\n",
    "x, y, z = testx.shape\n",
    "\n",
    "trainx_raw = trainx.reshape(i, j*k)\n",
    "testx_raw = testx.reshape(x, y*z)"
   ]
  },
  {
   "cell_type": "markdown",
   "metadata": {},
   "source": [
    "Now we fit a random forest model to `trainx_raw`."
   ]
  },
  {
   "cell_type": "code",
   "execution_count": 22,
   "metadata": {},
   "outputs": [
    {
     "data": {
      "text/plain": [
       "RandomForestClassifier(bootstrap=True, class_weight=None, criterion='gini',\n",
       "                       max_depth=None, max_features='auto', max_leaf_nodes=None,\n",
       "                       min_impurity_decrease=0.0, min_impurity_split=None,\n",
       "                       min_samples_leaf=1, min_samples_split=2,\n",
       "                       min_weight_fraction_leaf=0.0, n_estimators=100,\n",
       "                       n_jobs=None, oob_score=False, random_state=0, verbose=0,\n",
       "                       warm_start=False)"
      ]
     },
     "execution_count": 22,
     "metadata": {},
     "output_type": "execute_result"
    }
   ],
   "source": [
    "# Define and train rfModel_raw\n",
    "\n",
    "rfModel_raw = RandomForestClassifier(n_estimators=100, random_state=0)\n",
    "rfModel_raw.fit(trainx_raw, trainy)"
   ]
  },
  {
   "cell_type": "markdown",
   "metadata": {},
   "source": [
    "Now we predict for the test dataset `testx_raw` and calculate the accuracy for the prediction. We will also store the calculated accuracy in `accuracy_raw`."
   ]
  },
  {
   "cell_type": "code",
   "execution_count": 23,
   "metadata": {},
   "outputs": [],
   "source": [
    "raw_pred = rfModel_raw.predict(testx_raw)\n",
    "accuracy_raw = accuracy_score(testy, raw_pred)"
   ]
  },
  {
   "cell_type": "code",
   "execution_count": 24,
   "metadata": {},
   "outputs": [
    {
     "data": {
      "text/plain": [
       "0.84"
      ]
     },
     "execution_count": 24,
     "metadata": {},
     "output_type": "execute_result"
    }
   ],
   "source": [
    "# View accuracy_raw \n",
    "accuracy_raw"
   ]
  },
  {
   "cell_type": "markdown",
   "metadata": {},
   "source": [
    "### 4.2 Using Convolution features\n",
    "\n",
    "Now instead of using the raw pixel values, we use the convolution features."
   ]
  },
  {
   "cell_type": "code",
   "execution_count": 25,
   "metadata": {},
   "outputs": [
    {
     "data": {
      "text/plain": [
       "RandomForestClassifier(bootstrap=True, class_weight=None, criterion='gini',\n",
       "                       max_depth=None, max_features='auto', max_leaf_nodes=None,\n",
       "                       min_impurity_decrease=0.0, min_impurity_split=None,\n",
       "                       min_samples_leaf=1, min_samples_split=2,\n",
       "                       min_weight_fraction_leaf=0.0, n_estimators=100,\n",
       "                       n_jobs=None, oob_score=False, random_state=0, verbose=0,\n",
       "                       warm_start=False)"
      ]
     },
     "execution_count": 25,
     "metadata": {},
     "output_type": "execute_result"
    }
   ],
   "source": [
    "rfModel_conv = RandomForestClassifier(n_estimators=100, random_state=0)\n",
    "rfModel_conv.fit(trainx_feat, trainy)"
   ]
  },
  {
   "cell_type": "markdown",
   "metadata": {},
   "source": [
    "Predict for the `testx` dataset and store the accuracy value in `accuracy_conv`"
   ]
  },
  {
   "cell_type": "code",
   "execution_count": 26,
   "metadata": {},
   "outputs": [],
   "source": [
    "conv_pred = rfModel_conv.predict(testx_feat)\n",
    "accuracy_conv = accuracy_score(testy, conv_pred)"
   ]
  },
  {
   "cell_type": "code",
   "execution_count": 27,
   "metadata": {},
   "outputs": [
    {
     "data": {
      "text/plain": [
       "0.96"
      ]
     },
     "execution_count": 27,
     "metadata": {},
     "output_type": "execute_result"
    }
   ],
   "source": [
    "# View accuracy_conv\n",
    "accuracy_conv"
   ]
  },
  {
   "cell_type": "markdown",
   "metadata": {},
   "source": [
    "## Variations\n",
    "\n",
    "We now explore some variations to the data creation process and observe how it affects the model performance.\n"
   ]
  },
  {
   "cell_type": "markdown",
   "metadata": {},
   "source": [
    "### Step 5.1 Thresholding\n",
    "\n",
    "The Visualization in Step 3.2 gives us a good idea about the effect of convolving kernels on images. However, there are ways we can make these effects more stronger.\n",
    "\n",
    "We will write a function called `thresholdImg` that takes as input an image and does the following :\n",
    " * All values less than 0 are set to -1\n",
    " * All values greater than 0 are set to +1\n",
    " * All values equal to 0 are not changed"
   ]
  },
  {
   "cell_type": "code",
   "execution_count": 28,
   "metadata": {},
   "outputs": [],
   "source": [
    "def thresholdImg(img):\n",
    "    img[img<0] = -1\n",
    "    img[img>0] = 1\n",
    "    \n",
    "    return img"
   ]
  },
  {
   "cell_type": "markdown",
   "metadata": {},
   "source": [
    "Take the 5th image in `trainx`, convolve it with the 4th element in `kernels`, threshold the output of the convolution using ` thresholdImg` and store the output in `threshOutput`. Also plot `threshOutput`"
   ]
  },
  {
   "cell_type": "code",
   "execution_count": 29,
   "metadata": {},
   "outputs": [],
   "source": [
    "# Create threshOutput from the various image operations\n",
    "threshOutput = thresholdImg(convolveImage(trainx[4, 0:, 0:], kernels[3, 0:, 0:]))"
   ]
  },
  {
   "cell_type": "code",
   "execution_count": 30,
   "metadata": {},
   "outputs": [
    {
     "data": {
      "text/plain": [
       "<matplotlib.image.AxesImage at 0x1c686d83ef0>"
      ]
     },
     "execution_count": 30,
     "metadata": {},
     "output_type": "execute_result"
    },
    {
     "data": {
      "image/png": "[encoded data removed]",
      "text/plain": [
       "<Figure size 432x288 with 1 Axes>"
      ]
     },
     "metadata": {},
     "output_type": "display_data"
    }
   ],
   "source": [
    "# View the plot\n",
    "plt.imshow(threshOutput, cmap = 'gray')"
   ]
  },
  {
   "cell_type": "markdown",
   "metadata": {},
   "source": [
    "Now that we have seen the effect of thresholding the output of the convolutions, we apply this to all the images in the trainx and testx arrays while we create the featureVectors. In the next cells we will define the functions `createFeatureVec_thresh` and `featurizeData_thresh`."
   ]
  },
  {
   "cell_type": "code",
   "execution_count": 31,
   "metadata": {},
   "outputs": [],
   "source": [
    "def createFeatureVector_thresh(img, kernels):\n",
    "    result = []\n",
    "    for i in range(kernels.shape[0]):\n",
    "        kernel = kernels[i, 0:, 0:]\n",
    "        matrix = thresholdImg(convolveImage(img, kernel))\n",
    "        result.append(np.sum(matrix))\n",
    "        \n",
    "    return np.array(result)"
   ]
  },
  {
   "cell_type": "code",
   "execution_count": 32,
   "metadata": {},
   "outputs": [],
   "source": [
    "def featurizeData_thresh(dataset, kernels):\n",
    "    array = np.array([])\n",
    "    for i in range(dataset.shape[0]):\n",
    "        this_array = createFeatureVector_thresh(dataset[i, 0:], kernels)\n",
    "        if array.size:\n",
    "            array = np.vstack([array, this_array])\n",
    "        else:\n",
    "            array = this_array\n",
    "        \n",
    "        \n",
    "    return array"
   ]
  },
  {
   "cell_type": "markdown",
   "metadata": {},
   "source": [
    "Using these functions, we create `trainx_feat_thresh` and `testx_feat_thresh` from the trainx and testx datasets."
   ]
  },
  {
   "cell_type": "code",
   "execution_count": 33,
   "metadata": {},
   "outputs": [],
   "source": [
    "trainx_feat_thresh = featurizeData_thresh(trainx, kernels)\n",
    "testx_feat_thresh = featurizeData_thresh(testx, kernels)"
   ]
  },
  {
   "cell_type": "markdown",
   "metadata": {},
   "source": [
    "Now using the above features, we train a new Random Forest model called `rfModel_thresh` that takes as input `trainx_feat_thresh`. We will predict on the test dataset and store the accuracy value in `accuracy_thresh` as well."
   ]
  },
  {
   "cell_type": "code",
   "execution_count": 34,
   "metadata": {},
   "outputs": [],
   "source": [
    "# Define rfModel_thresh \n",
    "# Train the model, predict on testx_feat_thresh and \n",
    "# store the accuracy in accuracy_thresh\n",
    "\n",
    "rfModel_thresh = RandomForestClassifier(n_estimators=100, random_state=0)\n",
    "rfModel_thresh.fit(trainx_feat_thresh, trainy)\n",
    "\n",
    "thresh_pred = rfModel_thresh.predict(testx_feat_thresh)\n",
    "accuracy_thresh = accuracy_score(testy, thresh_pred)"
   ]
  },
  {
   "cell_type": "code",
   "execution_count": 35,
   "metadata": {},
   "outputs": [
    {
     "data": {
      "text/plain": [
       "1.0"
      ]
     },
     "execution_count": 35,
     "metadata": {},
     "output_type": "execute_result"
    }
   ],
   "source": [
    "# View accuracy_thresh here\n",
    "accuracy_thresh"
   ]
  },
  {
   "cell_type": "markdown",
   "metadata": {},
   "source": [
    "### Step 5.2 Additional Summarization\n",
    "\n",
    "In createFeatureVector, after applying the convolution, we simply summarize the output by taking the sum of the output.\n",
    "\n",
    "The sum alone may not be a very good summarization. Therefore in addition to the sum, we add 3 more summarization values : min, max and standard deviation. "
   ]
  },
  {
   "cell_type": "code",
   "execution_count": 36,
   "metadata": {},
   "outputs": [],
   "source": [
    "def createFeatureVector_new(img, kernels):\n",
    "    result = []\n",
    "    for i in range(kernels.shape[0]):\n",
    "        kernel = kernels[i, 0:, 0:]\n",
    "        matrix = convolveImage(img, kernel)\n",
    "        result.append(np.sum(matrix))\n",
    "        result.append(np.min(matrix))\n",
    "        result.append(np.max(matrix))\n",
    "        result.append(np.std(matrix))\n",
    "        \n",
    "    return np.array(result)\n",
    "\n",
    "\n",
    "def featurizeData_new(dataset, kernels):\n",
    "    array = np.array([])\n",
    "    for i in range(dataset.shape[0]):\n",
    "        this_array = createFeatureVector_new(dataset[i, 0:], kernels)\n",
    "        if array.size:\n",
    "            array = np.vstack([array, this_array])\n",
    "        else:\n",
    "            array = this_array\n",
    "        \n",
    "    return array"
   ]
  },
  {
   "cell_type": "code",
   "execution_count": 37,
   "metadata": {},
   "outputs": [],
   "source": [
    "trainx_feat_new = featurizeData_new(trainx, kernels)\n",
    "testx_feat_new = featurizeData_new(testx, kernels)"
   ]
  },
  {
   "cell_type": "code",
   "execution_count": 38,
   "metadata": {},
   "outputs": [],
   "source": [
    "rfModel2 = RandomForestClassifier(n_estimators=100, random_state=0)\n",
    "rfModel2.fit(trainx_feat_new, trainy)\n",
    "\n",
    "new_pred = rfModel2.predict(testx_feat_new)\n",
    "accuracy_2 = accuracy_score(testy, new_pred)"
   ]
  },
  {
   "cell_type": "code",
   "execution_count": 39,
   "metadata": {},
   "outputs": [
    {
     "data": {
      "text/plain": [
       "1.0"
      ]
     },
     "execution_count": 39,
     "metadata": {},
     "output_type": "execute_result"
    }
   ],
   "source": [
    "# View accuracy_2\n",
    "accuracy_2"
   ]
  },
  {
   "cell_type": "markdown",
   "metadata": {},
   "source": [
    "What we have essentially observed (and partially implemented) is how a Convolutional Neural Network works. CNNs are one of the most popular and best performing models out there, especially for Computer Vision tasks. The different modules in this notebook should give us a good intuition as to what a CNN tries to achieve and why it tends to perform better than vanilla Machine Learning models. \n",
    "\n",
    "The advantage of CNNs is its ability to learn meaningful features (`kernels`) that helps it recognize the differences between shapes/objects etc. That's why just 8 kernels were able to give much better performance than 2,500 raw pixel value features."
   ]
  },
  {
   "cell_type": "markdown",
   "metadata": {},
   "source": [
    "---"
   ]
  },
  {
   "cell_type": "markdown",
   "metadata": {},
   "source": [
    "Note: This is one of the assignments of CIS 545 Big Data Analytics at University of Pennsylvania during Spring 2019."
   ]
  }
 ],
 "metadata": {
  "kernelspec": {
   "display_name": "Python 3",
   "language": "python",
   "name": "python3"
  },
  "language_info": {
   "codemirror_mode": {
    "name": "ipython",
    "version": 3
   },
   "file_extension": ".py",
   "mimetype": "text/x-python",
   "name": "python",
   "nbconvert_exporter": "python",
   "pygments_lexer": "ipython3",
   "version": "3.6.6"
  }
 },
 "nbformat": 4,
 "nbformat_minor": 2
}
